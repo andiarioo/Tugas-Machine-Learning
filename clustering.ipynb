{
  "nbformat": 4,
  "nbformat_minor": 0,
  "metadata": {
    "kernelspec": {
      "display_name": "Python 3",
      "language": "python",
      "name": "python3"
    },
    "language_info": {
      "codemirror_mode": {
        "name": "ipython",
        "version": 2
      },
      "file_extension": ".py",
      "mimetype": "text/x-python",
      "name": "python",
      "nbconvert_exporter": "python",
      "pygments_lexer": "ipython2",
      "version": "2.7.6"
    },
    "colab": {
      "name": "clustering.ipynb",
      "provenance": []
    }
  },
  "cells": [
    {
      "cell_type": "markdown",
      "metadata": {
        "id": "A5Z8mQhB8OHV"
      },
      "source": [
        "import library"
      ]
    },
    {
      "cell_type": "code",
      "metadata": {
        "collapsed": true,
        "id": "W0GjdNdPkXzU"
      },
      "source": [
        "import pandas as pd\n",
        "import matplotlib.pyplot as plt\n",
        "import seaborn as sns\n",
        "\n",
        "from sklearn.preprocessing import StandardScaler\n",
        "\n",
        "from sklearn.cluster import KMeans\n",
        "\n",
        "from scipy.cluster.hierarchy import linkage\n",
        "from scipy.cluster.hierarchy import dendrogram\n",
        "from scipy.cluster.hierarchy import cut_tree\n",
        "\n",
        "from sklearn.cluster import DBSCAN\n"
      ],
      "execution_count": 79,
      "outputs": []
    },
    {
      "cell_type": "markdown",
      "metadata": {
        "collapsed": false,
        "pycharm": {
          "name": "#%% md\n"
        },
        "id": "m2de8NYskXzV"
      },
      "source": [
        "# **Preprocessing**"
      ]
    },
    {
      "cell_type": "code",
      "metadata": {
        "colab": {
          "base_uri": "https://localhost:8080/"
        },
        "id": "psnewl_dmV8a",
        "outputId": "ad6cc93f-fe9e-4688-d1f7-0c7895ab21d9"
      },
      "source": [
        "from google.colab import drive\n",
        "drive.mount('/content/drive')"
      ],
      "execution_count": 80,
      "outputs": [
        {
          "output_type": "stream",
          "name": "stdout",
          "text": [
            "Drive already mounted at /content/drive; to attempt to forcibly remount, call drive.mount(\"/content/drive\", force_remount=True).\n"
          ]
        }
      ]
    },
    {
      "cell_type": "markdown",
      "metadata": {
        "id": "mTXV-4hJ41xS"
      },
      "source": [
        "import dataset"
      ]
    },
    {
      "cell_type": "code",
      "metadata": {
        "pycharm": {
          "name": "#%%\n"
        },
        "colab": {
          "base_uri": "https://localhost:8080/",
          "height": 443
        },
        "id": "y057ldENkXzX",
        "outputId": "308e39a3-0691-479a-d5a0-efb9cfaf00c7"
      },
      "source": [
        "spot_data = pd.read_csv('/content/drive/MyDrive/Colab Notebooks/spotify.csv')\n",
        "spot_data"
      ],
      "execution_count": 81,
      "outputs": [
        {
          "output_type": "execute_result",
          "data": {
            "text/html": [
              "<div>\n",
              "<style scoped>\n",
              "    .dataframe tbody tr th:only-of-type {\n",
              "        vertical-align: middle;\n",
              "    }\n",
              "\n",
              "    .dataframe tbody tr th {\n",
              "        vertical-align: top;\n",
              "    }\n",
              "\n",
              "    .dataframe thead th {\n",
              "        text-align: right;\n",
              "    }\n",
              "</style>\n",
              "<table border=\"1\" class=\"dataframe\">\n",
              "  <thead>\n",
              "    <tr style=\"text-align: right;\">\n",
              "      <th></th>\n",
              "      <th>danceability</th>\n",
              "      <th>energy</th>\n",
              "      <th>key</th>\n",
              "      <th>loudness</th>\n",
              "      <th>mode</th>\n",
              "      <th>speechiness</th>\n",
              "      <th>acousticness</th>\n",
              "      <th>instrumentalness</th>\n",
              "      <th>liveness</th>\n",
              "      <th>valence</th>\n",
              "      <th>tempo</th>\n",
              "      <th>duration_ms</th>\n",
              "      <th>time_signature</th>\n",
              "      <th>liked</th>\n",
              "    </tr>\n",
              "  </thead>\n",
              "  <tbody>\n",
              "    <tr>\n",
              "      <th>0</th>\n",
              "      <td>0.803</td>\n",
              "      <td>0.6240</td>\n",
              "      <td>7</td>\n",
              "      <td>-6.764</td>\n",
              "      <td>0</td>\n",
              "      <td>0.0477</td>\n",
              "      <td>0.4510</td>\n",
              "      <td>0.000734</td>\n",
              "      <td>0.1000</td>\n",
              "      <td>0.6280</td>\n",
              "      <td>95.968</td>\n",
              "      <td>304524</td>\n",
              "      <td>4</td>\n",
              "      <td>0</td>\n",
              "    </tr>\n",
              "    <tr>\n",
              "      <th>1</th>\n",
              "      <td>0.762</td>\n",
              "      <td>0.7030</td>\n",
              "      <td>10</td>\n",
              "      <td>-7.951</td>\n",
              "      <td>0</td>\n",
              "      <td>0.3060</td>\n",
              "      <td>0.2060</td>\n",
              "      <td>0.000000</td>\n",
              "      <td>0.0912</td>\n",
              "      <td>0.5190</td>\n",
              "      <td>151.329</td>\n",
              "      <td>247178</td>\n",
              "      <td>4</td>\n",
              "      <td>1</td>\n",
              "    </tr>\n",
              "    <tr>\n",
              "      <th>2</th>\n",
              "      <td>0.261</td>\n",
              "      <td>0.0149</td>\n",
              "      <td>1</td>\n",
              "      <td>-27.528</td>\n",
              "      <td>1</td>\n",
              "      <td>0.0419</td>\n",
              "      <td>0.9920</td>\n",
              "      <td>0.897000</td>\n",
              "      <td>0.1020</td>\n",
              "      <td>0.0382</td>\n",
              "      <td>75.296</td>\n",
              "      <td>286987</td>\n",
              "      <td>4</td>\n",
              "      <td>0</td>\n",
              "    </tr>\n",
              "    <tr>\n",
              "      <th>3</th>\n",
              "      <td>0.722</td>\n",
              "      <td>0.7360</td>\n",
              "      <td>3</td>\n",
              "      <td>-6.994</td>\n",
              "      <td>0</td>\n",
              "      <td>0.0585</td>\n",
              "      <td>0.4310</td>\n",
              "      <td>0.000001</td>\n",
              "      <td>0.1230</td>\n",
              "      <td>0.5820</td>\n",
              "      <td>89.860</td>\n",
              "      <td>208920</td>\n",
              "      <td>4</td>\n",
              "      <td>1</td>\n",
              "    </tr>\n",
              "    <tr>\n",
              "      <th>4</th>\n",
              "      <td>0.787</td>\n",
              "      <td>0.5720</td>\n",
              "      <td>1</td>\n",
              "      <td>-7.516</td>\n",
              "      <td>1</td>\n",
              "      <td>0.2220</td>\n",
              "      <td>0.1450</td>\n",
              "      <td>0.000000</td>\n",
              "      <td>0.0753</td>\n",
              "      <td>0.6470</td>\n",
              "      <td>155.117</td>\n",
              "      <td>179413</td>\n",
              "      <td>4</td>\n",
              "      <td>1</td>\n",
              "    </tr>\n",
              "    <tr>\n",
              "      <th>...</th>\n",
              "      <td>...</td>\n",
              "      <td>...</td>\n",
              "      <td>...</td>\n",
              "      <td>...</td>\n",
              "      <td>...</td>\n",
              "      <td>...</td>\n",
              "      <td>...</td>\n",
              "      <td>...</td>\n",
              "      <td>...</td>\n",
              "      <td>...</td>\n",
              "      <td>...</td>\n",
              "      <td>...</td>\n",
              "      <td>...</td>\n",
              "      <td>...</td>\n",
              "    </tr>\n",
              "    <tr>\n",
              "      <th>190</th>\n",
              "      <td>0.166</td>\n",
              "      <td>0.0551</td>\n",
              "      <td>9</td>\n",
              "      <td>-19.494</td>\n",
              "      <td>0</td>\n",
              "      <td>0.0520</td>\n",
              "      <td>0.9760</td>\n",
              "      <td>0.635000</td>\n",
              "      <td>0.1190</td>\n",
              "      <td>0.1430</td>\n",
              "      <td>176.616</td>\n",
              "      <td>206520</td>\n",
              "      <td>3</td>\n",
              "      <td>0</td>\n",
              "    </tr>\n",
              "    <tr>\n",
              "      <th>191</th>\n",
              "      <td>0.862</td>\n",
              "      <td>0.6240</td>\n",
              "      <td>3</td>\n",
              "      <td>-11.630</td>\n",
              "      <td>1</td>\n",
              "      <td>0.0565</td>\n",
              "      <td>0.0192</td>\n",
              "      <td>0.000153</td>\n",
              "      <td>0.0465</td>\n",
              "      <td>0.8820</td>\n",
              "      <td>124.896</td>\n",
              "      <td>254240</td>\n",
              "      <td>4</td>\n",
              "      <td>0</td>\n",
              "    </tr>\n",
              "    <tr>\n",
              "      <th>192</th>\n",
              "      <td>0.499</td>\n",
              "      <td>0.3510</td>\n",
              "      <td>9</td>\n",
              "      <td>-11.509</td>\n",
              "      <td>0</td>\n",
              "      <td>0.0448</td>\n",
              "      <td>0.9510</td>\n",
              "      <td>0.000099</td>\n",
              "      <td>0.1180</td>\n",
              "      <td>0.6160</td>\n",
              "      <td>90.664</td>\n",
              "      <td>235947</td>\n",
              "      <td>4</td>\n",
              "      <td>0</td>\n",
              "    </tr>\n",
              "    <tr>\n",
              "      <th>193</th>\n",
              "      <td>0.574</td>\n",
              "      <td>0.7290</td>\n",
              "      <td>10</td>\n",
              "      <td>-5.838</td>\n",
              "      <td>0</td>\n",
              "      <td>0.0965</td>\n",
              "      <td>0.0406</td>\n",
              "      <td>0.000004</td>\n",
              "      <td>0.1940</td>\n",
              "      <td>0.4130</td>\n",
              "      <td>110.547</td>\n",
              "      <td>190239</td>\n",
              "      <td>5</td>\n",
              "      <td>1</td>\n",
              "    </tr>\n",
              "    <tr>\n",
              "      <th>194</th>\n",
              "      <td>0.747</td>\n",
              "      <td>0.6660</td>\n",
              "      <td>11</td>\n",
              "      <td>-7.845</td>\n",
              "      <td>1</td>\n",
              "      <td>0.1970</td>\n",
              "      <td>0.1300</td>\n",
              "      <td>0.000000</td>\n",
              "      <td>0.3600</td>\n",
              "      <td>0.5310</td>\n",
              "      <td>77.507</td>\n",
              "      <td>177213</td>\n",
              "      <td>4</td>\n",
              "      <td>1</td>\n",
              "    </tr>\n",
              "  </tbody>\n",
              "</table>\n",
              "<p>195 rows × 14 columns</p>\n",
              "</div>"
            ],
            "text/plain": [
              "     danceability  energy  key  ...  duration_ms  time_signature  liked\n",
              "0           0.803  0.6240    7  ...       304524               4      0\n",
              "1           0.762  0.7030   10  ...       247178               4      1\n",
              "2           0.261  0.0149    1  ...       286987               4      0\n",
              "3           0.722  0.7360    3  ...       208920               4      1\n",
              "4           0.787  0.5720    1  ...       179413               4      1\n",
              "..            ...     ...  ...  ...          ...             ...    ...\n",
              "190         0.166  0.0551    9  ...       206520               3      0\n",
              "191         0.862  0.6240    3  ...       254240               4      0\n",
              "192         0.499  0.3510    9  ...       235947               4      0\n",
              "193         0.574  0.7290   10  ...       190239               5      1\n",
              "194         0.747  0.6660   11  ...       177213               4      1\n",
              "\n",
              "[195 rows x 14 columns]"
            ]
          },
          "metadata": {},
          "execution_count": 81
        }
      ]
    },
    {
      "cell_type": "markdown",
      "metadata": {
        "id": "fTIta3Ks4yxg"
      },
      "source": [
        "scale match_data menjadi 4 kolom"
      ]
    },
    {
      "cell_type": "code",
      "metadata": {
        "pycharm": {
          "name": "#%%\n"
        },
        "colab": {
          "base_uri": "https://localhost:8080/",
          "height": 423
        },
        "id": "IFap4SHmkXzY",
        "outputId": "8e852d1b-907a-47d1-8a1d-cd39cbc0dd28"
      },
      "source": [
        "scaler = StandardScaler()\n",
        "spot_data_scale = spot_data[['danceability', 'energy', 'key', 'loudness']]\n",
        "spot_data_scale"
      ],
      "execution_count": 82,
      "outputs": [
        {
          "output_type": "execute_result",
          "data": {
            "text/html": [
              "<div>\n",
              "<style scoped>\n",
              "    .dataframe tbody tr th:only-of-type {\n",
              "        vertical-align: middle;\n",
              "    }\n",
              "\n",
              "    .dataframe tbody tr th {\n",
              "        vertical-align: top;\n",
              "    }\n",
              "\n",
              "    .dataframe thead th {\n",
              "        text-align: right;\n",
              "    }\n",
              "</style>\n",
              "<table border=\"1\" class=\"dataframe\">\n",
              "  <thead>\n",
              "    <tr style=\"text-align: right;\">\n",
              "      <th></th>\n",
              "      <th>danceability</th>\n",
              "      <th>energy</th>\n",
              "      <th>key</th>\n",
              "      <th>loudness</th>\n",
              "    </tr>\n",
              "  </thead>\n",
              "  <tbody>\n",
              "    <tr>\n",
              "      <th>0</th>\n",
              "      <td>0.803</td>\n",
              "      <td>0.6240</td>\n",
              "      <td>7</td>\n",
              "      <td>-6.764</td>\n",
              "    </tr>\n",
              "    <tr>\n",
              "      <th>1</th>\n",
              "      <td>0.762</td>\n",
              "      <td>0.7030</td>\n",
              "      <td>10</td>\n",
              "      <td>-7.951</td>\n",
              "    </tr>\n",
              "    <tr>\n",
              "      <th>2</th>\n",
              "      <td>0.261</td>\n",
              "      <td>0.0149</td>\n",
              "      <td>1</td>\n",
              "      <td>-27.528</td>\n",
              "    </tr>\n",
              "    <tr>\n",
              "      <th>3</th>\n",
              "      <td>0.722</td>\n",
              "      <td>0.7360</td>\n",
              "      <td>3</td>\n",
              "      <td>-6.994</td>\n",
              "    </tr>\n",
              "    <tr>\n",
              "      <th>4</th>\n",
              "      <td>0.787</td>\n",
              "      <td>0.5720</td>\n",
              "      <td>1</td>\n",
              "      <td>-7.516</td>\n",
              "    </tr>\n",
              "    <tr>\n",
              "      <th>...</th>\n",
              "      <td>...</td>\n",
              "      <td>...</td>\n",
              "      <td>...</td>\n",
              "      <td>...</td>\n",
              "    </tr>\n",
              "    <tr>\n",
              "      <th>190</th>\n",
              "      <td>0.166</td>\n",
              "      <td>0.0551</td>\n",
              "      <td>9</td>\n",
              "      <td>-19.494</td>\n",
              "    </tr>\n",
              "    <tr>\n",
              "      <th>191</th>\n",
              "      <td>0.862</td>\n",
              "      <td>0.6240</td>\n",
              "      <td>3</td>\n",
              "      <td>-11.630</td>\n",
              "    </tr>\n",
              "    <tr>\n",
              "      <th>192</th>\n",
              "      <td>0.499</td>\n",
              "      <td>0.3510</td>\n",
              "      <td>9</td>\n",
              "      <td>-11.509</td>\n",
              "    </tr>\n",
              "    <tr>\n",
              "      <th>193</th>\n",
              "      <td>0.574</td>\n",
              "      <td>0.7290</td>\n",
              "      <td>10</td>\n",
              "      <td>-5.838</td>\n",
              "    </tr>\n",
              "    <tr>\n",
              "      <th>194</th>\n",
              "      <td>0.747</td>\n",
              "      <td>0.6660</td>\n",
              "      <td>11</td>\n",
              "      <td>-7.845</td>\n",
              "    </tr>\n",
              "  </tbody>\n",
              "</table>\n",
              "<p>195 rows × 4 columns</p>\n",
              "</div>"
            ],
            "text/plain": [
              "     danceability  energy  key  loudness\n",
              "0           0.803  0.6240    7    -6.764\n",
              "1           0.762  0.7030   10    -7.951\n",
              "2           0.261  0.0149    1   -27.528\n",
              "3           0.722  0.7360    3    -6.994\n",
              "4           0.787  0.5720    1    -7.516\n",
              "..            ...     ...  ...       ...\n",
              "190         0.166  0.0551    9   -19.494\n",
              "191         0.862  0.6240    3   -11.630\n",
              "192         0.499  0.3510    9   -11.509\n",
              "193         0.574  0.7290   10    -5.838\n",
              "194         0.747  0.6660   11    -7.845\n",
              "\n",
              "[195 rows x 4 columns]"
            ]
          },
          "metadata": {},
          "execution_count": 82
        }
      ]
    },
    {
      "cell_type": "code",
      "metadata": {
        "pycharm": {
          "name": "#%%\n"
        },
        "colab": {
          "base_uri": "https://localhost:8080/"
        },
        "id": "s_G61OkxkXzY",
        "outputId": "8b53eff2-40cc-4486-fe1b-5100051c05f2"
      },
      "source": [
        "spot_data_scale = scaler.fit_transform(spot_data_scale)\n",
        "spot_data_scale.shape"
      ],
      "execution_count": 83,
      "outputs": [
        {
          "output_type": "execute_result",
          "data": {
            "text/plain": [
              "(195, 4)"
            ]
          },
          "metadata": {},
          "execution_count": 83
        }
      ]
    },
    {
      "cell_type": "code",
      "metadata": {
        "pycharm": {
          "name": "#%%\n"
        },
        "colab": {
          "base_uri": "https://localhost:8080/"
        },
        "id": "rz8zzQgQkXzY",
        "outputId": "681b96de-7dd3-4f07-8e2b-383de34d8085"
      },
      "source": [
        "spot_data_scale[:5]"
      ],
      "execution_count": 84,
      "outputs": [
        {
          "output_type": "execute_result",
          "data": {
            "text/plain": [
              "array([[ 0.7699031 , -0.05562809,  0.44109502,  0.4175617 ],\n",
              "       [ 0.58013908,  0.24888794,  1.32177961,  0.23518014],\n",
              "       [-1.73868457, -2.40348527, -1.32027416, -2.77280956],\n",
              "       [ 0.39500346,  0.37609084, -0.7331511 ,  0.38222239],\n",
              "       [ 0.69584885, -0.25606903, -1.32027416,  0.30201753]])"
            ]
          },
          "metadata": {},
          "execution_count": 84
        }
      ]
    },
    {
      "cell_type": "code",
      "metadata": {
        "pycharm": {
          "name": "#%%\n"
        },
        "colab": {
          "base_uri": "https://localhost:8080/",
          "height": 206
        },
        "id": "mk5S3LG-kXzZ",
        "outputId": "532e4087-45af-41d9-f71c-5b06656a0052"
      },
      "source": [
        "data = pd.DataFrame(spot_data_scale)\n",
        "data.rename(columns={0:\"danceability\", 1:\"energy\", 2:\"key\", 3:\"loudness\"}, inplace=True)\n",
        "\n",
        "data_cluster = data.copy()\n",
        "data.head()"
      ],
      "execution_count": 85,
      "outputs": [
        {
          "output_type": "execute_result",
          "data": {
            "text/html": [
              "<div>\n",
              "<style scoped>\n",
              "    .dataframe tbody tr th:only-of-type {\n",
              "        vertical-align: middle;\n",
              "    }\n",
              "\n",
              "    .dataframe tbody tr th {\n",
              "        vertical-align: top;\n",
              "    }\n",
              "\n",
              "    .dataframe thead th {\n",
              "        text-align: right;\n",
              "    }\n",
              "</style>\n",
              "<table border=\"1\" class=\"dataframe\">\n",
              "  <thead>\n",
              "    <tr style=\"text-align: right;\">\n",
              "      <th></th>\n",
              "      <th>danceability</th>\n",
              "      <th>energy</th>\n",
              "      <th>key</th>\n",
              "      <th>loudness</th>\n",
              "    </tr>\n",
              "  </thead>\n",
              "  <tbody>\n",
              "    <tr>\n",
              "      <th>0</th>\n",
              "      <td>0.769903</td>\n",
              "      <td>-0.055628</td>\n",
              "      <td>0.441095</td>\n",
              "      <td>0.417562</td>\n",
              "    </tr>\n",
              "    <tr>\n",
              "      <th>1</th>\n",
              "      <td>0.580139</td>\n",
              "      <td>0.248888</td>\n",
              "      <td>1.321780</td>\n",
              "      <td>0.235180</td>\n",
              "    </tr>\n",
              "    <tr>\n",
              "      <th>2</th>\n",
              "      <td>-1.738685</td>\n",
              "      <td>-2.403485</td>\n",
              "      <td>-1.320274</td>\n",
              "      <td>-2.772810</td>\n",
              "    </tr>\n",
              "    <tr>\n",
              "      <th>3</th>\n",
              "      <td>0.395003</td>\n",
              "      <td>0.376091</td>\n",
              "      <td>-0.733151</td>\n",
              "      <td>0.382222</td>\n",
              "    </tr>\n",
              "    <tr>\n",
              "      <th>4</th>\n",
              "      <td>0.695849</td>\n",
              "      <td>-0.256069</td>\n",
              "      <td>-1.320274</td>\n",
              "      <td>0.302018</td>\n",
              "    </tr>\n",
              "  </tbody>\n",
              "</table>\n",
              "</div>"
            ],
            "text/plain": [
              "   danceability    energy       key  loudness\n",
              "0      0.769903 -0.055628  0.441095  0.417562\n",
              "1      0.580139  0.248888  1.321780  0.235180\n",
              "2     -1.738685 -2.403485 -1.320274 -2.772810\n",
              "3      0.395003  0.376091 -0.733151  0.382222\n",
              "4      0.695849 -0.256069 -1.320274  0.302018"
            ]
          },
          "metadata": {},
          "execution_count": 85
        }
      ]
    },
    {
      "cell_type": "code",
      "metadata": {
        "pycharm": {
          "name": "#%%\n"
        },
        "colab": {
          "base_uri": "https://localhost:8080/",
          "height": 300
        },
        "id": "yWLC2py0kXzZ",
        "outputId": "310d45c4-1715-471f-924b-8d8993528366"
      },
      "source": [
        "data.describe()"
      ],
      "execution_count": 86,
      "outputs": [
        {
          "output_type": "execute_result",
          "data": {
            "text/html": [
              "<div>\n",
              "<style scoped>\n",
              "    .dataframe tbody tr th:only-of-type {\n",
              "        vertical-align: middle;\n",
              "    }\n",
              "\n",
              "    .dataframe tbody tr th {\n",
              "        vertical-align: top;\n",
              "    }\n",
              "\n",
              "    .dataframe thead th {\n",
              "        text-align: right;\n",
              "    }\n",
              "</style>\n",
              "<table border=\"1\" class=\"dataframe\">\n",
              "  <thead>\n",
              "    <tr style=\"text-align: right;\">\n",
              "      <th></th>\n",
              "      <th>danceability</th>\n",
              "      <th>energy</th>\n",
              "      <th>key</th>\n",
              "      <th>loudness</th>\n",
              "    </tr>\n",
              "  </thead>\n",
              "  <tbody>\n",
              "    <tr>\n",
              "      <th>count</th>\n",
              "      <td>1.950000e+02</td>\n",
              "      <td>1.950000e+02</td>\n",
              "      <td>1.950000e+02</td>\n",
              "      <td>1.950000e+02</td>\n",
              "    </tr>\n",
              "    <tr>\n",
              "      <th>mean</th>\n",
              "      <td>-1.411976e-16</td>\n",
              "      <td>4.006766e-17</td>\n",
              "      <td>-3.188333e-17</td>\n",
              "      <td>2.157818e-16</td>\n",
              "    </tr>\n",
              "    <tr>\n",
              "      <th>std</th>\n",
              "      <td>1.002574e+00</td>\n",
              "      <td>1.002574e+00</td>\n",
              "      <td>1.002574e+00</td>\n",
              "      <td>1.002574e+00</td>\n",
              "    </tr>\n",
              "    <tr>\n",
              "      <th>min</th>\n",
              "      <td>-2.345004e+00</td>\n",
              "      <td>-2.451668e+00</td>\n",
              "      <td>-1.613836e+00</td>\n",
              "      <td>-5.036523e+00</td>\n",
              "    </tr>\n",
              "    <tr>\n",
              "      <th>25%</th>\n",
              "      <td>-8.060639e-01</td>\n",
              "      <td>-4.044724e-01</td>\n",
              "      <td>-1.026713e+00</td>\n",
              "      <td>-7.380833e-02</td>\n",
              "    </tr>\n",
              "    <tr>\n",
              "      <th>50%</th>\n",
              "      <td>3.163208e-01</td>\n",
              "      <td>7.928408e-02</td>\n",
              "      <td>1.475335e-01</td>\n",
              "      <td>2.636052e-01</td>\n",
              "    </tr>\n",
              "    <tr>\n",
              "      <th>75%</th>\n",
              "      <td>7.513895e-01</td>\n",
              "      <td>7.673361e-01</td>\n",
              "      <td>7.346565e-01</td>\n",
              "      <td>5.612237e-01</td>\n",
              "    </tr>\n",
              "    <tr>\n",
              "      <th>max</th>\n",
              "      <td>1.431763e+00</td>\n",
              "      <td>1.378296e+00</td>\n",
              "      <td>1.615341e+00</td>\n",
              "      <td>1.097920e+00</td>\n",
              "    </tr>\n",
              "  </tbody>\n",
              "</table>\n",
              "</div>"
            ],
            "text/plain": [
              "       danceability        energy           key      loudness\n",
              "count  1.950000e+02  1.950000e+02  1.950000e+02  1.950000e+02\n",
              "mean  -1.411976e-16  4.006766e-17 -3.188333e-17  2.157818e-16\n",
              "std    1.002574e+00  1.002574e+00  1.002574e+00  1.002574e+00\n",
              "min   -2.345004e+00 -2.451668e+00 -1.613836e+00 -5.036523e+00\n",
              "25%   -8.060639e-01 -4.044724e-01 -1.026713e+00 -7.380833e-02\n",
              "50%    3.163208e-01  7.928408e-02  1.475335e-01  2.636052e-01\n",
              "75%    7.513895e-01  7.673361e-01  7.346565e-01  5.612237e-01\n",
              "max    1.431763e+00  1.378296e+00  1.615341e+00  1.097920e+00"
            ]
          },
          "metadata": {},
          "execution_count": 86
        }
      ]
    },
    {
      "cell_type": "markdown",
      "metadata": {
        "collapsed": false,
        "id": "5umsyKQlkXzZ"
      },
      "source": [
        "# **Kmeans Algorithm**"
      ]
    },
    {
      "cell_type": "markdown",
      "metadata": {
        "id": "jPwtAcyy48wi"
      },
      "source": [
        "buat list inertia"
      ]
    },
    {
      "cell_type": "code",
      "metadata": {
        "pycharm": {
          "name": "#%%\n"
        },
        "id": "VUA0FkuokXzZ"
      },
      "source": [
        "clusters = []\n",
        "for i in range(1,11):\n",
        "    km = KMeans(n_clusters=i).fit(data)\n",
        "    clusters.append(km.inertia_)"
      ],
      "execution_count": 87,
      "outputs": []
    },
    {
      "cell_type": "markdown",
      "metadata": {
        "id": "rXgC2thI5POX"
      },
      "source": [
        "tampilkan plot"
      ]
    },
    {
      "cell_type": "code",
      "metadata": {
        "colab": {
          "base_uri": "https://localhost:8080/",
          "height": 0
        },
        "id": "Gps0Wyf15OIo",
        "outputId": "94fc10e1-ee4d-421a-addb-f83d08edb148"
      },
      "source": [
        "fig, ax = plt.subplots(figsize=(8,4))\n",
        "sns.lineplot(x=list(range(1,11)), y=clusters, ax=ax)\n",
        "ax.set_title('elbow')\n",
        "ax.set_xlabel('clusters')\n",
        "ax.set_ylabel('inertia')"
      ],
      "execution_count": 88,
      "outputs": [
        {
          "output_type": "execute_result",
          "data": {
            "text/plain": [
              "Text(0, 0.5, 'inertia')"
            ]
          },
          "metadata": {},
          "execution_count": 88
        },
        {
          "output_type": "display_data",
          "data": {
            "image/png": "[encoded data removed]",
            "text/plain": [
              "<Figure size 576x288 with 1 Axes>"
            ]
          },
          "metadata": {
            "needs_background": "light"
          }
        }
      ]
    },
    {
      "cell_type": "markdown",
      "metadata": {
        "id": "HJ-fnKob5Xy1"
      },
      "source": [
        "melatih model"
      ]
    },
    {
      "cell_type": "code",
      "metadata": {
        "pycharm": {
          "name": "#%%\n"
        },
        "colab": {
          "base_uri": "https://localhost:8080/",
          "height": 0
        },
        "id": "hGNsZ9UUkXza",
        "outputId": "944d3b2b-330c-4259-9d5b-bc0fe08a004a"
      },
      "source": [
        "# create model\n",
        "model_kmeans3 = KMeans(n_clusters=3)\n",
        "model_KMeans4 = KMeans(n_clusters=4)\n",
        "\n",
        "\n",
        "# train model\n",
        "model_kmeans3.fit(data)\n",
        "model_KMeans4.fit(data)\n",
        "\n",
        "# menambah label\n",
        "data_cluster['cluster_kmeans3'] = model_kmeans3.labels_\n",
        "data_cluster['cluster_kmeans4'] = model_KMeans4.labels_\n",
        "\n",
        "data_cluster"
      ],
      "execution_count": 89,
      "outputs": [
        {
          "output_type": "execute_result",
          "data": {
            "text/html": [
              "<div>\n",
              "<style scoped>\n",
              "    .dataframe tbody tr th:only-of-type {\n",
              "        vertical-align: middle;\n",
              "    }\n",
              "\n",
              "    .dataframe tbody tr th {\n",
              "        vertical-align: top;\n",
              "    }\n",
              "\n",
              "    .dataframe thead th {\n",
              "        text-align: right;\n",
              "    }\n",
              "</style>\n",
              "<table border=\"1\" class=\"dataframe\">\n",
              "  <thead>\n",
              "    <tr style=\"text-align: right;\">\n",
              "      <th></th>\n",
              "      <th>danceability</th>\n",
              "      <th>energy</th>\n",
              "      <th>key</th>\n",
              "      <th>loudness</th>\n",
              "      <th>cluster_kmeans3</th>\n",
              "      <th>cluster_kmeans4</th>\n",
              "    </tr>\n",
              "  </thead>\n",
              "  <tbody>\n",
              "    <tr>\n",
              "      <th>0</th>\n",
              "      <td>0.769903</td>\n",
              "      <td>-0.055628</td>\n",
              "      <td>0.441095</td>\n",
              "      <td>0.417562</td>\n",
              "      <td>0</td>\n",
              "      <td>0</td>\n",
              "    </tr>\n",
              "    <tr>\n",
              "      <th>1</th>\n",
              "      <td>0.580139</td>\n",
              "      <td>0.248888</td>\n",
              "      <td>1.321780</td>\n",
              "      <td>0.235180</td>\n",
              "      <td>0</td>\n",
              "      <td>0</td>\n",
              "    </tr>\n",
              "    <tr>\n",
              "      <th>2</th>\n",
              "      <td>-1.738685</td>\n",
              "      <td>-2.403485</td>\n",
              "      <td>-1.320274</td>\n",
              "      <td>-2.772810</td>\n",
              "      <td>1</td>\n",
              "      <td>2</td>\n",
              "    </tr>\n",
              "    <tr>\n",
              "      <th>3</th>\n",
              "      <td>0.395003</td>\n",
              "      <td>0.376091</td>\n",
              "      <td>-0.733151</td>\n",
              "      <td>0.382222</td>\n",
              "      <td>2</td>\n",
              "      <td>1</td>\n",
              "    </tr>\n",
              "    <tr>\n",
              "      <th>4</th>\n",
              "      <td>0.695849</td>\n",
              "      <td>-0.256069</td>\n",
              "      <td>-1.320274</td>\n",
              "      <td>0.302018</td>\n",
              "      <td>2</td>\n",
              "      <td>1</td>\n",
              "    </tr>\n",
              "    <tr>\n",
              "      <th>...</th>\n",
              "      <td>...</td>\n",
              "      <td>...</td>\n",
              "      <td>...</td>\n",
              "      <td>...</td>\n",
              "      <td>...</td>\n",
              "      <td>...</td>\n",
              "    </tr>\n",
              "    <tr>\n",
              "      <th>190</th>\n",
              "      <td>-2.178382</td>\n",
              "      <td>-2.248529</td>\n",
              "      <td>1.028218</td>\n",
              "      <td>-1.538392</td>\n",
              "      <td>1</td>\n",
              "      <td>2</td>\n",
              "    </tr>\n",
              "    <tr>\n",
              "      <th>191</th>\n",
              "      <td>1.042978</td>\n",
              "      <td>-0.055628</td>\n",
              "      <td>-0.733151</td>\n",
              "      <td>-0.330095</td>\n",
              "      <td>2</td>\n",
              "      <td>1</td>\n",
              "    </tr>\n",
              "    <tr>\n",
              "      <th>192</th>\n",
              "      <td>-0.637128</td>\n",
              "      <td>-1.107943</td>\n",
              "      <td>1.028218</td>\n",
              "      <td>-0.311504</td>\n",
              "      <td>0</td>\n",
              "      <td>0</td>\n",
              "    </tr>\n",
              "    <tr>\n",
              "      <th>193</th>\n",
              "      <td>-0.289998</td>\n",
              "      <td>0.349108</td>\n",
              "      <td>1.321780</td>\n",
              "      <td>0.559841</td>\n",
              "      <td>0</td>\n",
              "      <td>0</td>\n",
              "    </tr>\n",
              "    <tr>\n",
              "      <th>194</th>\n",
              "      <td>0.510713</td>\n",
              "      <td>0.106267</td>\n",
              "      <td>1.615341</td>\n",
              "      <td>0.251467</td>\n",
              "      <td>0</td>\n",
              "      <td>0</td>\n",
              "    </tr>\n",
              "  </tbody>\n",
              "</table>\n",
              "<p>195 rows × 6 columns</p>\n",
              "</div>"
            ],
            "text/plain": [
              "     danceability    energy  ...  cluster_kmeans3  cluster_kmeans4\n",
              "0        0.769903 -0.055628  ...                0                0\n",
              "1        0.580139  0.248888  ...                0                0\n",
              "2       -1.738685 -2.403485  ...                1                2\n",
              "3        0.395003  0.376091  ...                2                1\n",
              "4        0.695849 -0.256069  ...                2                1\n",
              "..            ...       ...  ...              ...              ...\n",
              "190     -2.178382 -2.248529  ...                1                2\n",
              "191      1.042978 -0.055628  ...                2                1\n",
              "192     -0.637128 -1.107943  ...                0                0\n",
              "193     -0.289998  0.349108  ...                0                0\n",
              "194      0.510713  0.106267  ...                0                0\n",
              "\n",
              "[195 rows x 6 columns]"
            ]
          },
          "metadata": {},
          "execution_count": 89
        }
      ]
    },
    {
      "cell_type": "markdown",
      "metadata": {
        "id": "jPkiJmiy5gIr"
      },
      "source": [
        "tampilkan plot"
      ]
    },
    {
      "cell_type": "code",
      "metadata": {
        "pycharm": {
          "name": "#%%\n"
        },
        "colab": {
          "base_uri": "https://localhost:8080/",
          "height": 0
        },
        "id": "yqJ5QvpwkXza",
        "outputId": "e34c38e4-2359-4d0a-e506-b5d0e5fa6871"
      },
      "source": [
        "plt.figure(figsize=(8,4))\n",
        "sns.scatterplot(data_cluster['danceability'], data_cluster['energy'], hue=data_cluster['cluster_kmeans3'], palette=sns.color_palette('hls', 3))\n",
        "plt.title(\"KMeans 3 cluster\")\n",
        "\n",
        "plt.figure(figsize=(8,4))\n",
        "sns.scatterplot(data_cluster['danceability'], data_cluster['energy'], hue=data_cluster['cluster_kmeans4'], palette=sns.color_palette('hls', 4))\n",
        "plt.show()"
      ],
      "execution_count": 90,
      "outputs": [
        {
          "output_type": "stream",
          "name": "stderr",
          "text": [
            "/usr/local/lib/python3.7/dist-packages/seaborn/_decorators.py:43: FutureWarning: Pass the following variables as keyword args: x, y. From version 0.12, the only valid positional argument will be `data`, and passing other arguments without an explicit keyword will result in an error or misinterpretation.\n",
            "  FutureWarning\n",
            "/usr/local/lib/python3.7/dist-packages/seaborn/_decorators.py:43: FutureWarning: Pass the following variables as keyword args: x, y. From version 0.12, the only valid positional argument will be `data`, and passing other arguments without an explicit keyword will result in an error or misinterpretation.\n",
            "  FutureWarning\n"
          ]
        },
        {
          "output_type": "display_data",
          "data": {
            "image/png": "[encoded data removed]",
            "text/plain": [
              "<Figure size 576x288 with 1 Axes>"
            ]
          },
          "metadata": {
            "needs_background": "light"
          }
        },
        {
          "output_type": "display_data",
          "data": {
            "image/png": "[encoded data removed]",
            "text/plain": [
              "<Figure size 576x288 with 1 Axes>"
            ]
          },
          "metadata": {
            "needs_background": "light"
          }
        }
      ]
    },
    {
      "cell_type": "markdown",
      "metadata": {
        "collapsed": false,
        "pycharm": {
          "name": "#%% md\n"
        },
        "id": "g-nyx6QZkXza"
      },
      "source": [
        "# **Hierarchy**"
      ]
    },
    {
      "cell_type": "code",
      "metadata": {
        "pycharm": {
          "name": "#%%\n"
        },
        "colab": {
          "base_uri": "https://localhost:8080/",
          "height": 0
        },
        "id": "4WmeGroEkXzb",
        "outputId": "fccf0d20-8ca4-47cc-c66b-9b314f4f21fa"
      },
      "source": [
        "data"
      ],
      "execution_count": 91,
      "outputs": [
        {
          "output_type": "execute_result",
          "data": {
            "text/html": [
              "<div>\n",
              "<style scoped>\n",
              "    .dataframe tbody tr th:only-of-type {\n",
              "        vertical-align: middle;\n",
              "    }\n",
              "\n",
              "    .dataframe tbody tr th {\n",
              "        vertical-align: top;\n",
              "    }\n",
              "\n",
              "    .dataframe thead th {\n",
              "        text-align: right;\n",
              "    }\n",
              "</style>\n",
              "<table border=\"1\" class=\"dataframe\">\n",
              "  <thead>\n",
              "    <tr style=\"text-align: right;\">\n",
              "      <th></th>\n",
              "      <th>danceability</th>\n",
              "      <th>energy</th>\n",
              "      <th>key</th>\n",
              "      <th>loudness</th>\n",
              "    </tr>\n",
              "  </thead>\n",
              "  <tbody>\n",
              "    <tr>\n",
              "      <th>0</th>\n",
              "      <td>0.769903</td>\n",
              "      <td>-0.055628</td>\n",
              "      <td>0.441095</td>\n",
              "      <td>0.417562</td>\n",
              "    </tr>\n",
              "    <tr>\n",
              "      <th>1</th>\n",
              "      <td>0.580139</td>\n",
              "      <td>0.248888</td>\n",
              "      <td>1.321780</td>\n",
              "      <td>0.235180</td>\n",
              "    </tr>\n",
              "    <tr>\n",
              "      <th>2</th>\n",
              "      <td>-1.738685</td>\n",
              "      <td>-2.403485</td>\n",
              "      <td>-1.320274</td>\n",
              "      <td>-2.772810</td>\n",
              "    </tr>\n",
              "    <tr>\n",
              "      <th>3</th>\n",
              "      <td>0.395003</td>\n",
              "      <td>0.376091</td>\n",
              "      <td>-0.733151</td>\n",
              "      <td>0.382222</td>\n",
              "    </tr>\n",
              "    <tr>\n",
              "      <th>4</th>\n",
              "      <td>0.695849</td>\n",
              "      <td>-0.256069</td>\n",
              "      <td>-1.320274</td>\n",
              "      <td>0.302018</td>\n",
              "    </tr>\n",
              "    <tr>\n",
              "      <th>...</th>\n",
              "      <td>...</td>\n",
              "      <td>...</td>\n",
              "      <td>...</td>\n",
              "      <td>...</td>\n",
              "    </tr>\n",
              "    <tr>\n",
              "      <th>190</th>\n",
              "      <td>-2.178382</td>\n",
              "      <td>-2.248529</td>\n",
              "      <td>1.028218</td>\n",
              "      <td>-1.538392</td>\n",
              "    </tr>\n",
              "    <tr>\n",
              "      <th>191</th>\n",
              "      <td>1.042978</td>\n",
              "      <td>-0.055628</td>\n",
              "      <td>-0.733151</td>\n",
              "      <td>-0.330095</td>\n",
              "    </tr>\n",
              "    <tr>\n",
              "      <th>192</th>\n",
              "      <td>-0.637128</td>\n",
              "      <td>-1.107943</td>\n",
              "      <td>1.028218</td>\n",
              "      <td>-0.311504</td>\n",
              "    </tr>\n",
              "    <tr>\n",
              "      <th>193</th>\n",
              "      <td>-0.289998</td>\n",
              "      <td>0.349108</td>\n",
              "      <td>1.321780</td>\n",
              "      <td>0.559841</td>\n",
              "    </tr>\n",
              "    <tr>\n",
              "      <th>194</th>\n",
              "      <td>0.510713</td>\n",
              "      <td>0.106267</td>\n",
              "      <td>1.615341</td>\n",
              "      <td>0.251467</td>\n",
              "    </tr>\n",
              "  </tbody>\n",
              "</table>\n",
              "<p>195 rows × 4 columns</p>\n",
              "</div>"
            ],
            "text/plain": [
              "     danceability    energy       key  loudness\n",
              "0        0.769903 -0.055628  0.441095  0.417562\n",
              "1        0.580139  0.248888  1.321780  0.235180\n",
              "2       -1.738685 -2.403485 -1.320274 -2.772810\n",
              "3        0.395003  0.376091 -0.733151  0.382222\n",
              "4        0.695849 -0.256069 -1.320274  0.302018\n",
              "..            ...       ...       ...       ...\n",
              "190     -2.178382 -2.248529  1.028218 -1.538392\n",
              "191      1.042978 -0.055628 -0.733151 -0.330095\n",
              "192     -0.637128 -1.107943  1.028218 -0.311504\n",
              "193     -0.289998  0.349108  1.321780  0.559841\n",
              "194      0.510713  0.106267  1.615341  0.251467\n",
              "\n",
              "[195 rows x 4 columns]"
            ]
          },
          "metadata": {},
          "execution_count": 91
        }
      ]
    },
    {
      "cell_type": "markdown",
      "metadata": {
        "id": "EPmeziNh5oqm"
      },
      "source": [
        "Single linkage"
      ]
    },
    {
      "cell_type": "code",
      "metadata": {
        "pycharm": {
          "name": "#%%\n"
        },
        "colab": {
          "base_uri": "https://localhost:8080/",
          "height": 0
        },
        "id": "D9J0nE_ikXzb",
        "outputId": "c6241b7d-20db-426e-f6d7-3e4fd3f287a3"
      },
      "source": [
        "mergings_single = linkage(data, method=\"single\", metric='euclidean')\n",
        "dendrogram(mergings_single)\n",
        "plt.title(\"single linkage\")\n",
        "plt.show()"
      ],
      "execution_count": 92,
      "outputs": [
        {
          "output_type": "display_data",
          "data": {
            "image/png": "[encoded data removed]",
            "text/plain": [
              "<Figure size 432x288 with 1 Axes>"
            ]
          },
          "metadata": {
            "needs_background": "light"
          }
        }
      ]
    },
    {
      "cell_type": "markdown",
      "metadata": {
        "id": "OAFvHwmQ54Jn"
      },
      "source": [
        "Complete linkage"
      ]
    },
    {
      "cell_type": "code",
      "metadata": {
        "pycharm": {
          "name": "#%%\n"
        },
        "colab": {
          "base_uri": "https://localhost:8080/",
          "height": 0
        },
        "id": "8kmGaJs4kXzc",
        "outputId": "4fac9092-6778-4189-c036-19ee481174a8"
      },
      "source": [
        "mergings_complete = linkage(data, method=\"complete\", metric='euclidean')\n",
        "dendrogram(mergings_complete)\n",
        "plt.title(\"complete linkage\")\n",
        "plt.show()"
      ],
      "execution_count": 93,
      "outputs": [
        {
          "output_type": "display_data",
          "data": {
            "image/png": "[encoded data removed]",
            "text/plain": [
              "<Figure size 432x288 with 1 Axes>"
            ]
          },
          "metadata": {
            "needs_background": "light"
          }
        }
      ]
    },
    {
      "cell_type": "code",
      "metadata": {
        "pycharm": {
          "name": "#%%\n"
        },
        "colab": {
          "base_uri": "https://localhost:8080/"
        },
        "id": "CPRmUqLpkXzc",
        "outputId": "f0a5a287-81a2-4cba-be36-06c8ed9fd728"
      },
      "source": [
        "# 3 clusters\n",
        "cluster_hierarchy = cut_tree(mergings_complete, n_clusters=3).reshape(-1, )\n",
        "cluster_hierarchy"
      ],
      "execution_count": 94,
      "outputs": [
        {
          "output_type": "execute_result",
          "data": {
            "text/plain": [
              "array([0, 0, 1, 0, 0, 0, 0, 0, 0, 0, 0, 0, 0, 0, 0, 0, 0, 0, 0, 0, 0, 1,\n",
              "       0, 0, 0, 0, 0, 0, 0, 0, 0, 0, 0, 0, 0, 1, 0, 0, 0, 0, 0, 0, 0, 0,\n",
              "       0, 0, 0, 0, 2, 0, 0, 0, 0, 0, 0, 0, 0, 0, 2, 0, 0, 0, 1, 0, 0, 0,\n",
              "       0, 0, 0, 0, 0, 0, 0, 0, 0, 0, 0, 0, 0, 0, 0, 0, 0, 0, 0, 0, 1, 0,\n",
              "       0, 0, 0, 0, 0, 0, 0, 0, 0, 0, 0, 0, 0, 0, 0, 0, 0, 0, 0, 1, 0, 0,\n",
              "       1, 0, 0, 1, 0, 0, 0, 0, 0, 0, 0, 0, 0, 0, 0, 0, 0, 0, 0, 1, 0, 0,\n",
              "       0, 0, 0, 1, 0, 0, 1, 0, 0, 0, 1, 0, 0, 0, 0, 0, 0, 0, 0, 0, 0, 0,\n",
              "       0, 0, 0, 0, 2, 1, 0, 0, 0, 0, 0, 0, 0, 1, 1, 0, 1, 2, 0, 0, 0, 0,\n",
              "       0, 0, 0, 0, 0, 0, 0, 0, 0, 0, 0, 0, 0, 0, 1, 0, 0, 0, 0])"
            ]
          },
          "metadata": {},
          "execution_count": 94
        }
      ]
    },
    {
      "cell_type": "markdown",
      "metadata": {
        "id": "IjFWDJXH6Fse"
      },
      "source": [
        "tentukan cluster labels"
      ]
    },
    {
      "cell_type": "code",
      "metadata": {
        "pycharm": {
          "name": "#%%\n"
        },
        "colab": {
          "base_uri": "https://localhost:8080/",
          "height": 0
        },
        "id": "YR8_i7PMkXzd",
        "outputId": "c5b8dafc-65c7-4cde-f73d-38c5fb9556b2"
      },
      "source": [
        "data_cluster['cluster_hierarchy'] = cluster_hierarchy\n",
        "data_cluster"
      ],
      "execution_count": 95,
      "outputs": [
        {
          "output_type": "execute_result",
          "data": {
            "text/html": [
              "<div>\n",
              "<style scoped>\n",
              "    .dataframe tbody tr th:only-of-type {\n",
              "        vertical-align: middle;\n",
              "    }\n",
              "\n",
              "    .dataframe tbody tr th {\n",
              "        vertical-align: top;\n",
              "    }\n",
              "\n",
              "    .dataframe thead th {\n",
              "        text-align: right;\n",
              "    }\n",
              "</style>\n",
              "<table border=\"1\" class=\"dataframe\">\n",
              "  <thead>\n",
              "    <tr style=\"text-align: right;\">\n",
              "      <th></th>\n",
              "      <th>danceability</th>\n",
              "      <th>energy</th>\n",
              "      <th>key</th>\n",
              "      <th>loudness</th>\n",
              "      <th>cluster_kmeans3</th>\n",
              "      <th>cluster_kmeans4</th>\n",
              "      <th>cluster_hierarchy</th>\n",
              "    </tr>\n",
              "  </thead>\n",
              "  <tbody>\n",
              "    <tr>\n",
              "      <th>0</th>\n",
              "      <td>0.769903</td>\n",
              "      <td>-0.055628</td>\n",
              "      <td>0.441095</td>\n",
              "      <td>0.417562</td>\n",
              "      <td>0</td>\n",
              "      <td>0</td>\n",
              "      <td>0</td>\n",
              "    </tr>\n",
              "    <tr>\n",
              "      <th>1</th>\n",
              "      <td>0.580139</td>\n",
              "      <td>0.248888</td>\n",
              "      <td>1.321780</td>\n",
              "      <td>0.235180</td>\n",
              "      <td>0</td>\n",
              "      <td>0</td>\n",
              "      <td>0</td>\n",
              "    </tr>\n",
              "    <tr>\n",
              "      <th>2</th>\n",
              "      <td>-1.738685</td>\n",
              "      <td>-2.403485</td>\n",
              "      <td>-1.320274</td>\n",
              "      <td>-2.772810</td>\n",
              "      <td>1</td>\n",
              "      <td>2</td>\n",
              "      <td>1</td>\n",
              "    </tr>\n",
              "    <tr>\n",
              "      <th>3</th>\n",
              "      <td>0.395003</td>\n",
              "      <td>0.376091</td>\n",
              "      <td>-0.733151</td>\n",
              "      <td>0.382222</td>\n",
              "      <td>2</td>\n",
              "      <td>1</td>\n",
              "      <td>0</td>\n",
              "    </tr>\n",
              "    <tr>\n",
              "      <th>4</th>\n",
              "      <td>0.695849</td>\n",
              "      <td>-0.256069</td>\n",
              "      <td>-1.320274</td>\n",
              "      <td>0.302018</td>\n",
              "      <td>2</td>\n",
              "      <td>1</td>\n",
              "      <td>0</td>\n",
              "    </tr>\n",
              "    <tr>\n",
              "      <th>...</th>\n",
              "      <td>...</td>\n",
              "      <td>...</td>\n",
              "      <td>...</td>\n",
              "      <td>...</td>\n",
              "      <td>...</td>\n",
              "      <td>...</td>\n",
              "      <td>...</td>\n",
              "    </tr>\n",
              "    <tr>\n",
              "      <th>190</th>\n",
              "      <td>-2.178382</td>\n",
              "      <td>-2.248529</td>\n",
              "      <td>1.028218</td>\n",
              "      <td>-1.538392</td>\n",
              "      <td>1</td>\n",
              "      <td>2</td>\n",
              "      <td>1</td>\n",
              "    </tr>\n",
              "    <tr>\n",
              "      <th>191</th>\n",
              "      <td>1.042978</td>\n",
              "      <td>-0.055628</td>\n",
              "      <td>-0.733151</td>\n",
              "      <td>-0.330095</td>\n",
              "      <td>2</td>\n",
              "      <td>1</td>\n",
              "      <td>0</td>\n",
              "    </tr>\n",
              "    <tr>\n",
              "      <th>192</th>\n",
              "      <td>-0.637128</td>\n",
              "      <td>-1.107943</td>\n",
              "      <td>1.028218</td>\n",
              "      <td>-0.311504</td>\n",
              "      <td>0</td>\n",
              "      <td>0</td>\n",
              "      <td>0</td>\n",
              "    </tr>\n",
              "    <tr>\n",
              "      <th>193</th>\n",
              "      <td>-0.289998</td>\n",
              "      <td>0.349108</td>\n",
              "      <td>1.321780</td>\n",
              "      <td>0.559841</td>\n",
              "      <td>0</td>\n",
              "      <td>0</td>\n",
              "      <td>0</td>\n",
              "    </tr>\n",
              "    <tr>\n",
              "      <th>194</th>\n",
              "      <td>0.510713</td>\n",
              "      <td>0.106267</td>\n",
              "      <td>1.615341</td>\n",
              "      <td>0.251467</td>\n",
              "      <td>0</td>\n",
              "      <td>0</td>\n",
              "      <td>0</td>\n",
              "    </tr>\n",
              "  </tbody>\n",
              "</table>\n",
              "<p>195 rows × 7 columns</p>\n",
              "</div>"
            ],
            "text/plain": [
              "     danceability    energy  ...  cluster_kmeans4  cluster_hierarchy\n",
              "0        0.769903 -0.055628  ...                0                  0\n",
              "1        0.580139  0.248888  ...                0                  0\n",
              "2       -1.738685 -2.403485  ...                2                  1\n",
              "3        0.395003  0.376091  ...                1                  0\n",
              "4        0.695849 -0.256069  ...                1                  0\n",
              "..            ...       ...  ...              ...                ...\n",
              "190     -2.178382 -2.248529  ...                2                  1\n",
              "191      1.042978 -0.055628  ...                1                  0\n",
              "192     -0.637128 -1.107943  ...                0                  0\n",
              "193     -0.289998  0.349108  ...                0                  0\n",
              "194      0.510713  0.106267  ...                0                  0\n",
              "\n",
              "[195 rows x 7 columns]"
            ]
          },
          "metadata": {},
          "execution_count": 95
        }
      ]
    },
    {
      "cell_type": "markdown",
      "metadata": {
        "id": "7JTTaop66LuT"
      },
      "source": [
        "tampilkan plot"
      ]
    },
    {
      "cell_type": "code",
      "metadata": {
        "pycharm": {
          "name": "#%%\n"
        },
        "colab": {
          "base_uri": "https://localhost:8080/",
          "height": 0
        },
        "id": "yYJm9DpwkXzd",
        "outputId": "a693992c-d256-413b-dfa8-aaf8cdf2969f"
      },
      "source": [
        "plt.figure(figsize=(8, 4))\n",
        "sns.scatterplot(data_cluster['danceability'], data_cluster['energy'], hue=data_cluster['cluster_hierarchy'], palette=sns.color_palette('hls', 3))\n",
        "plt.title('hierarchical clustering')"
      ],
      "execution_count": 96,
      "outputs": [
        {
          "output_type": "stream",
          "name": "stderr",
          "text": [
            "/usr/local/lib/python3.7/dist-packages/seaborn/_decorators.py:43: FutureWarning: Pass the following variables as keyword args: x, y. From version 0.12, the only valid positional argument will be `data`, and passing other arguments without an explicit keyword will result in an error or misinterpretation.\n",
            "  FutureWarning\n"
          ]
        },
        {
          "output_type": "execute_result",
          "data": {
            "text/plain": [
              "Text(0.5, 1.0, 'hierarchical clustering')"
            ]
          },
          "metadata": {},
          "execution_count": 96
        },
        {
          "output_type": "display_data",
          "data": {
            "image/png": "[encoded data removed]",
            "text/plain": [
              "<Figure size 576x288 with 1 Axes>"
            ]
          },
          "metadata": {
            "needs_background": "light"
          }
        }
      ]
    },
    {
      "cell_type": "markdown",
      "metadata": {
        "collapsed": false,
        "id": "W-TtInhNkXzd"
      },
      "source": [
        "# **DBScan**"
      ]
    },
    {
      "cell_type": "code",
      "metadata": {
        "pycharm": {
          "name": "#%%\n"
        },
        "colab": {
          "base_uri": "https://localhost:8080/",
          "height": 423
        },
        "id": "wpetL6sRkXze",
        "outputId": "38d40a83-03ec-4e01-cfd5-d7e9fe91fe32"
      },
      "source": [
        "data"
      ],
      "execution_count": 97,
      "outputs": [
        {
          "output_type": "execute_result",
          "data": {
            "text/html": [
              "<div>\n",
              "<style scoped>\n",
              "    .dataframe tbody tr th:only-of-type {\n",
              "        vertical-align: middle;\n",
              "    }\n",
              "\n",
              "    .dataframe tbody tr th {\n",
              "        vertical-align: top;\n",
              "    }\n",
              "\n",
              "    .dataframe thead th {\n",
              "        text-align: right;\n",
              "    }\n",
              "</style>\n",
              "<table border=\"1\" class=\"dataframe\">\n",
              "  <thead>\n",
              "    <tr style=\"text-align: right;\">\n",
              "      <th></th>\n",
              "      <th>danceability</th>\n",
              "      <th>energy</th>\n",
              "      <th>key</th>\n",
              "      <th>loudness</th>\n",
              "    </tr>\n",
              "  </thead>\n",
              "  <tbody>\n",
              "    <tr>\n",
              "      <th>0</th>\n",
              "      <td>0.769903</td>\n",
              "      <td>-0.055628</td>\n",
              "      <td>0.441095</td>\n",
              "      <td>0.417562</td>\n",
              "    </tr>\n",
              "    <tr>\n",
              "      <th>1</th>\n",
              "      <td>0.580139</td>\n",
              "      <td>0.248888</td>\n",
              "      <td>1.321780</td>\n",
              "      <td>0.235180</td>\n",
              "    </tr>\n",
              "    <tr>\n",
              "      <th>2</th>\n",
              "      <td>-1.738685</td>\n",
              "      <td>-2.403485</td>\n",
              "      <td>-1.320274</td>\n",
              "      <td>-2.772810</td>\n",
              "    </tr>\n",
              "    <tr>\n",
              "      <th>3</th>\n",
              "      <td>0.395003</td>\n",
              "      <td>0.376091</td>\n",
              "      <td>-0.733151</td>\n",
              "      <td>0.382222</td>\n",
              "    </tr>\n",
              "    <tr>\n",
              "      <th>4</th>\n",
              "      <td>0.695849</td>\n",
              "      <td>-0.256069</td>\n",
              "      <td>-1.320274</td>\n",
              "      <td>0.302018</td>\n",
              "    </tr>\n",
              "    <tr>\n",
              "      <th>...</th>\n",
              "      <td>...</td>\n",
              "      <td>...</td>\n",
              "      <td>...</td>\n",
              "      <td>...</td>\n",
              "    </tr>\n",
              "    <tr>\n",
              "      <th>190</th>\n",
              "      <td>-2.178382</td>\n",
              "      <td>-2.248529</td>\n",
              "      <td>1.028218</td>\n",
              "      <td>-1.538392</td>\n",
              "    </tr>\n",
              "    <tr>\n",
              "      <th>191</th>\n",
              "      <td>1.042978</td>\n",
              "      <td>-0.055628</td>\n",
              "      <td>-0.733151</td>\n",
              "      <td>-0.330095</td>\n",
              "    </tr>\n",
              "    <tr>\n",
              "      <th>192</th>\n",
              "      <td>-0.637128</td>\n",
              "      <td>-1.107943</td>\n",
              "      <td>1.028218</td>\n",
              "      <td>-0.311504</td>\n",
              "    </tr>\n",
              "    <tr>\n",
              "      <th>193</th>\n",
              "      <td>-0.289998</td>\n",
              "      <td>0.349108</td>\n",
              "      <td>1.321780</td>\n",
              "      <td>0.559841</td>\n",
              "    </tr>\n",
              "    <tr>\n",
              "      <th>194</th>\n",
              "      <td>0.510713</td>\n",
              "      <td>0.106267</td>\n",
              "      <td>1.615341</td>\n",
              "      <td>0.251467</td>\n",
              "    </tr>\n",
              "  </tbody>\n",
              "</table>\n",
              "<p>195 rows × 4 columns</p>\n",
              "</div>"
            ],
            "text/plain": [
              "     danceability    energy       key  loudness\n",
              "0        0.769903 -0.055628  0.441095  0.417562\n",
              "1        0.580139  0.248888  1.321780  0.235180\n",
              "2       -1.738685 -2.403485 -1.320274 -2.772810\n",
              "3        0.395003  0.376091 -0.733151  0.382222\n",
              "4        0.695849 -0.256069 -1.320274  0.302018\n",
              "..            ...       ...       ...       ...\n",
              "190     -2.178382 -2.248529  1.028218 -1.538392\n",
              "191      1.042978 -0.055628 -0.733151 -0.330095\n",
              "192     -0.637128 -1.107943  1.028218 -0.311504\n",
              "193     -0.289998  0.349108  1.321780  0.559841\n",
              "194      0.510713  0.106267  1.615341  0.251467\n",
              "\n",
              "[195 rows x 4 columns]"
            ]
          },
          "metadata": {},
          "execution_count": 97
        }
      ]
    },
    {
      "cell_type": "markdown",
      "metadata": {
        "id": "YN8Y9sKR6TC9"
      },
      "source": [
        "buat sebuah objek"
      ]
    },
    {
      "cell_type": "code",
      "metadata": {
        "pycharm": {
          "name": "#%%\n"
        },
        "id": "ShfTIpTAkXze"
      },
      "source": [
        "db = DBSCAN(eps=1.2, min_samples=2, metric='euclidean')"
      ],
      "execution_count": 98,
      "outputs": []
    },
    {
      "cell_type": "code",
      "metadata": {
        "colab": {
          "base_uri": "https://localhost:8080/"
        },
        "id": "zO_zkpsm6ZlN",
        "outputId": "5b12c27c-d53f-467d-b9f9-69caf284a840"
      },
      "source": [
        "db.fit(data)\n",
        "set(db.labels_)"
      ],
      "execution_count": 99,
      "outputs": [
        {
          "output_type": "execute_result",
          "data": {
            "text/plain": [
              "{0, 1, 2}"
            ]
          },
          "metadata": {},
          "execution_count": 99
        }
      ]
    },
    {
      "cell_type": "code",
      "metadata": {
        "pycharm": {
          "name": "#%%\n"
        },
        "colab": {
          "base_uri": "https://localhost:8080/",
          "height": 423
        },
        "id": "WX5JBBQwkXze",
        "outputId": "d83ca16d-c1a9-47be-ae9d-f6eda42dd7c4"
      },
      "source": [
        "data_cluster['cluster_dbscan'] = db.labels_\n",
        "data_cluster"
      ],
      "execution_count": 100,
      "outputs": [
        {
          "output_type": "execute_result",
          "data": {
            "text/html": [
              "<div>\n",
              "<style scoped>\n",
              "    .dataframe tbody tr th:only-of-type {\n",
              "        vertical-align: middle;\n",
              "    }\n",
              "\n",
              "    .dataframe tbody tr th {\n",
              "        vertical-align: top;\n",
              "    }\n",
              "\n",
              "    .dataframe thead th {\n",
              "        text-align: right;\n",
              "    }\n",
              "</style>\n",
              "<table border=\"1\" class=\"dataframe\">\n",
              "  <thead>\n",
              "    <tr style=\"text-align: right;\">\n",
              "      <th></th>\n",
              "      <th>danceability</th>\n",
              "      <th>energy</th>\n",
              "      <th>key</th>\n",
              "      <th>loudness</th>\n",
              "      <th>cluster_kmeans3</th>\n",
              "      <th>cluster_kmeans4</th>\n",
              "      <th>cluster_hierarchy</th>\n",
              "      <th>cluster_dbscan</th>\n",
              "    </tr>\n",
              "  </thead>\n",
              "  <tbody>\n",
              "    <tr>\n",
              "      <th>0</th>\n",
              "      <td>0.769903</td>\n",
              "      <td>-0.055628</td>\n",
              "      <td>0.441095</td>\n",
              "      <td>0.417562</td>\n",
              "      <td>0</td>\n",
              "      <td>0</td>\n",
              "      <td>0</td>\n",
              "      <td>0</td>\n",
              "    </tr>\n",
              "    <tr>\n",
              "      <th>1</th>\n",
              "      <td>0.580139</td>\n",
              "      <td>0.248888</td>\n",
              "      <td>1.321780</td>\n",
              "      <td>0.235180</td>\n",
              "      <td>0</td>\n",
              "      <td>0</td>\n",
              "      <td>0</td>\n",
              "      <td>0</td>\n",
              "    </tr>\n",
              "    <tr>\n",
              "      <th>2</th>\n",
              "      <td>-1.738685</td>\n",
              "      <td>-2.403485</td>\n",
              "      <td>-1.320274</td>\n",
              "      <td>-2.772810</td>\n",
              "      <td>1</td>\n",
              "      <td>2</td>\n",
              "      <td>1</td>\n",
              "      <td>1</td>\n",
              "    </tr>\n",
              "    <tr>\n",
              "      <th>3</th>\n",
              "      <td>0.395003</td>\n",
              "      <td>0.376091</td>\n",
              "      <td>-0.733151</td>\n",
              "      <td>0.382222</td>\n",
              "      <td>2</td>\n",
              "      <td>1</td>\n",
              "      <td>0</td>\n",
              "      <td>0</td>\n",
              "    </tr>\n",
              "    <tr>\n",
              "      <th>4</th>\n",
              "      <td>0.695849</td>\n",
              "      <td>-0.256069</td>\n",
              "      <td>-1.320274</td>\n",
              "      <td>0.302018</td>\n",
              "      <td>2</td>\n",
              "      <td>1</td>\n",
              "      <td>0</td>\n",
              "      <td>0</td>\n",
              "    </tr>\n",
              "    <tr>\n",
              "      <th>...</th>\n",
              "      <td>...</td>\n",
              "      <td>...</td>\n",
              "      <td>...</td>\n",
              "      <td>...</td>\n",
              "      <td>...</td>\n",
              "      <td>...</td>\n",
              "      <td>...</td>\n",
              "      <td>...</td>\n",
              "    </tr>\n",
              "    <tr>\n",
              "      <th>190</th>\n",
              "      <td>-2.178382</td>\n",
              "      <td>-2.248529</td>\n",
              "      <td>1.028218</td>\n",
              "      <td>-1.538392</td>\n",
              "      <td>1</td>\n",
              "      <td>2</td>\n",
              "      <td>1</td>\n",
              "      <td>1</td>\n",
              "    </tr>\n",
              "    <tr>\n",
              "      <th>191</th>\n",
              "      <td>1.042978</td>\n",
              "      <td>-0.055628</td>\n",
              "      <td>-0.733151</td>\n",
              "      <td>-0.330095</td>\n",
              "      <td>2</td>\n",
              "      <td>1</td>\n",
              "      <td>0</td>\n",
              "      <td>0</td>\n",
              "    </tr>\n",
              "    <tr>\n",
              "      <th>192</th>\n",
              "      <td>-0.637128</td>\n",
              "      <td>-1.107943</td>\n",
              "      <td>1.028218</td>\n",
              "      <td>-0.311504</td>\n",
              "      <td>0</td>\n",
              "      <td>0</td>\n",
              "      <td>0</td>\n",
              "      <td>0</td>\n",
              "    </tr>\n",
              "    <tr>\n",
              "      <th>193</th>\n",
              "      <td>-0.289998</td>\n",
              "      <td>0.349108</td>\n",
              "      <td>1.321780</td>\n",
              "      <td>0.559841</td>\n",
              "      <td>0</td>\n",
              "      <td>0</td>\n",
              "      <td>0</td>\n",
              "      <td>0</td>\n",
              "    </tr>\n",
              "    <tr>\n",
              "      <th>194</th>\n",
              "      <td>0.510713</td>\n",
              "      <td>0.106267</td>\n",
              "      <td>1.615341</td>\n",
              "      <td>0.251467</td>\n",
              "      <td>0</td>\n",
              "      <td>0</td>\n",
              "      <td>0</td>\n",
              "      <td>0</td>\n",
              "    </tr>\n",
              "  </tbody>\n",
              "</table>\n",
              "<p>195 rows × 8 columns</p>\n",
              "</div>"
            ],
            "text/plain": [
              "     danceability    energy  ...  cluster_hierarchy  cluster_dbscan\n",
              "0        0.769903 -0.055628  ...                  0               0\n",
              "1        0.580139  0.248888  ...                  0               0\n",
              "2       -1.738685 -2.403485  ...                  1               1\n",
              "3        0.395003  0.376091  ...                  0               0\n",
              "4        0.695849 -0.256069  ...                  0               0\n",
              "..            ...       ...  ...                ...             ...\n",
              "190     -2.178382 -2.248529  ...                  1               1\n",
              "191      1.042978 -0.055628  ...                  0               0\n",
              "192     -0.637128 -1.107943  ...                  0               0\n",
              "193     -0.289998  0.349108  ...                  0               0\n",
              "194      0.510713  0.106267  ...                  0               0\n",
              "\n",
              "[195 rows x 8 columns]"
            ]
          },
          "metadata": {},
          "execution_count": 100
        }
      ]
    },
    {
      "cell_type": "code",
      "metadata": {
        "pycharm": {
          "name": "#%%\n"
        },
        "colab": {
          "base_uri": "https://localhost:8080/",
          "height": 300
        },
        "id": "NaTTLfYdkXzf",
        "outputId": "79820cf8-10bb-4a1f-ac34-1d0539872be0"
      },
      "source": [
        "data_cluster.describe()"
      ],
      "execution_count": 101,
      "outputs": [
        {
          "output_type": "execute_result",
          "data": {
            "text/html": [
              "<div>\n",
              "<style scoped>\n",
              "    .dataframe tbody tr th:only-of-type {\n",
              "        vertical-align: middle;\n",
              "    }\n",
              "\n",
              "    .dataframe tbody tr th {\n",
              "        vertical-align: top;\n",
              "    }\n",
              "\n",
              "    .dataframe thead th {\n",
              "        text-align: right;\n",
              "    }\n",
              "</style>\n",
              "<table border=\"1\" class=\"dataframe\">\n",
              "  <thead>\n",
              "    <tr style=\"text-align: right;\">\n",
              "      <th></th>\n",
              "      <th>danceability</th>\n",
              "      <th>energy</th>\n",
              "      <th>key</th>\n",
              "      <th>loudness</th>\n",
              "      <th>cluster_kmeans3</th>\n",
              "      <th>cluster_kmeans4</th>\n",
              "      <th>cluster_hierarchy</th>\n",
              "      <th>cluster_dbscan</th>\n",
              "    </tr>\n",
              "  </thead>\n",
              "  <tbody>\n",
              "    <tr>\n",
              "      <th>count</th>\n",
              "      <td>1.950000e+02</td>\n",
              "      <td>1.950000e+02</td>\n",
              "      <td>1.950000e+02</td>\n",
              "      <td>1.950000e+02</td>\n",
              "      <td>195.000000</td>\n",
              "      <td>195.000000</td>\n",
              "      <td>195.000000</td>\n",
              "      <td>195.000000</td>\n",
              "    </tr>\n",
              "    <tr>\n",
              "      <th>mean</th>\n",
              "      <td>-1.411976e-16</td>\n",
              "      <td>4.006766e-17</td>\n",
              "      <td>-3.188333e-17</td>\n",
              "      <td>2.157818e-16</td>\n",
              "      <td>0.805128</td>\n",
              "      <td>0.989744</td>\n",
              "      <td>0.128205</td>\n",
              "      <td>0.117949</td>\n",
              "    </tr>\n",
              "    <tr>\n",
              "      <th>std</th>\n",
              "      <td>1.002574e+00</td>\n",
              "      <td>1.002574e+00</td>\n",
              "      <td>1.002574e+00</td>\n",
              "      <td>1.002574e+00</td>\n",
              "      <td>0.926680</td>\n",
              "      <td>1.116833</td>\n",
              "      <td>0.391895</td>\n",
              "      <td>0.353824</td>\n",
              "    </tr>\n",
              "    <tr>\n",
              "      <th>min</th>\n",
              "      <td>-2.345004e+00</td>\n",
              "      <td>-2.451668e+00</td>\n",
              "      <td>-1.613836e+00</td>\n",
              "      <td>-5.036523e+00</td>\n",
              "      <td>0.000000</td>\n",
              "      <td>0.000000</td>\n",
              "      <td>0.000000</td>\n",
              "      <td>0.000000</td>\n",
              "    </tr>\n",
              "    <tr>\n",
              "      <th>25%</th>\n",
              "      <td>-8.060639e-01</td>\n",
              "      <td>-4.044724e-01</td>\n",
              "      <td>-1.026713e+00</td>\n",
              "      <td>-7.380833e-02</td>\n",
              "      <td>0.000000</td>\n",
              "      <td>0.000000</td>\n",
              "      <td>0.000000</td>\n",
              "      <td>0.000000</td>\n",
              "    </tr>\n",
              "    <tr>\n",
              "      <th>50%</th>\n",
              "      <td>3.163208e-01</td>\n",
              "      <td>7.928408e-02</td>\n",
              "      <td>1.475335e-01</td>\n",
              "      <td>2.636052e-01</td>\n",
              "      <td>0.000000</td>\n",
              "      <td>1.000000</td>\n",
              "      <td>0.000000</td>\n",
              "      <td>0.000000</td>\n",
              "    </tr>\n",
              "    <tr>\n",
              "      <th>75%</th>\n",
              "      <td>7.513895e-01</td>\n",
              "      <td>7.673361e-01</td>\n",
              "      <td>7.346565e-01</td>\n",
              "      <td>5.612237e-01</td>\n",
              "      <td>2.000000</td>\n",
              "      <td>2.000000</td>\n",
              "      <td>0.000000</td>\n",
              "      <td>0.000000</td>\n",
              "    </tr>\n",
              "    <tr>\n",
              "      <th>max</th>\n",
              "      <td>1.431763e+00</td>\n",
              "      <td>1.378296e+00</td>\n",
              "      <td>1.615341e+00</td>\n",
              "      <td>1.097920e+00</td>\n",
              "      <td>2.000000</td>\n",
              "      <td>3.000000</td>\n",
              "      <td>2.000000</td>\n",
              "      <td>2.000000</td>\n",
              "    </tr>\n",
              "  </tbody>\n",
              "</table>\n",
              "</div>"
            ],
            "text/plain": [
              "       danceability        energy  ...  cluster_hierarchy  cluster_dbscan\n",
              "count  1.950000e+02  1.950000e+02  ...         195.000000      195.000000\n",
              "mean  -1.411976e-16  4.006766e-17  ...           0.128205        0.117949\n",
              "std    1.002574e+00  1.002574e+00  ...           0.391895        0.353824\n",
              "min   -2.345004e+00 -2.451668e+00  ...           0.000000        0.000000\n",
              "25%   -8.060639e-01 -4.044724e-01  ...           0.000000        0.000000\n",
              "50%    3.163208e-01  7.928408e-02  ...           0.000000        0.000000\n",
              "75%    7.513895e-01  7.673361e-01  ...           0.000000        0.000000\n",
              "max    1.431763e+00  1.378296e+00  ...           2.000000        2.000000\n",
              "\n",
              "[8 rows x 8 columns]"
            ]
          },
          "metadata": {},
          "execution_count": 101
        }
      ]
    },
    {
      "cell_type": "code",
      "metadata": {
        "pycharm": {
          "name": "#%%\n"
        },
        "colab": {
          "base_uri": "https://localhost:8080/",
          "height": 367
        },
        "id": "oIQI0bktkXzf",
        "outputId": "0414096b-cb65-4d39-9ab9-093e864c5f58"
      },
      "source": [
        "plt.figure(figsize=(8,4))\n",
        "sns.scatterplot(data_cluster['danceability'], data_cluster['energy'], hue=data_cluster['cluster_dbscan'], palette=sns.color_palette('hls',3))\n",
        "plt.title('DBSCAN Clustering')"
      ],
      "execution_count": 102,
      "outputs": [
        {
          "output_type": "stream",
          "name": "stderr",
          "text": [
            "/usr/local/lib/python3.7/dist-packages/seaborn/_decorators.py:43: FutureWarning: Pass the following variables as keyword args: x, y. From version 0.12, the only valid positional argument will be `data`, and passing other arguments without an explicit keyword will result in an error or misinterpretation.\n",
            "  FutureWarning\n"
          ]
        },
        {
          "output_type": "execute_result",
          "data": {
            "text/plain": [
              "Text(0.5, 1.0, 'DBSCAN Clustering')"
            ]
          },
          "metadata": {},
          "execution_count": 102
        },
        {
          "output_type": "display_data",
          "data": {
            "image/png": "[encoded data removed]",
            "text/plain": [
              "<Figure size 576x288 with 1 Axes>"
            ]
          },
          "metadata": {
            "needs_background": "light"
          }
        }
      ]
    }
  ]
}